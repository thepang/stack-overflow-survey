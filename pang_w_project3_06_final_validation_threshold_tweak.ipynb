{
 "cells": [
  {
   "cell_type": "markdown",
   "metadata": {},
   "source": [
    "### Recap\n",
    "\n",
    "We have our random forest model with tuned parameters and some minor feature engineering. Time to review the model to look for interesting insights for the upcoming presentation and run our final validation."
   ]
  },
  {
   "cell_type": "code",
   "execution_count": 1,
   "metadata": {},
   "outputs": [],
   "source": [
    "import pandas as pd\n",
    "import numpy as np\n",
    "from sklearn.model_selection import train_test_split\n",
    "\n",
    "import stackoverflow_helper as soh\n",
    "import dictionaries as look"
   ]
  },
  {
   "cell_type": "code",
   "execution_count": 2,
   "metadata": {},
   "outputs": [],
   "source": [
    "raw_import = pd.read_csv('/Users/pang/repos/stack-overflow-survey/_data/output_ft.csv', index_col='Respondent')"
   ]
  },
  {
   "cell_type": "code",
   "execution_count": 3,
   "metadata": {},
   "outputs": [],
   "source": [
    "y_big = raw_import['JobSat']\n",
    "X_big = raw_import.drop(columns='JobSat')\n",
    "X_train_big, X_test_final, y_train_big, y_test_final = train_test_split(\n",
    "    X_big, y_big, test_size=0.20, random_state=4444)\n",
    "\n",
    "y = y_train_big\n",
    "X = X_train_big\n",
    "X_train, X_test, y_train, y_test = train_test_split(X, y, test_size=0.20, random_state=4444)\n",
    "df = pd.DataFrame(y_train).merge(X_train, on='Respondent')\n",
    "df_te = pd.DataFrame(y_test).merge(X_test, on='Respondent')"
   ]
  },
  {
   "cell_type": "markdown",
   "metadata": {},
   "source": [
    "### Final validation"
   ]
  },
  {
   "cell_type": "markdown",
   "metadata": {},
   "source": [
    "And as a reminder, here is the baseline from previous notebooks."
   ]
  },
  {
   "cell_type": "code",
   "execution_count": 4,
   "metadata": {
    "scrolled": true
   },
   "outputs": [
    {
     "data": {
      "text/plain": [
       "{'roc_auc': 0.749966948211678,\n",
       " 'accuracy': 0.7036347499152458,\n",
       " 'precision': 0.6974637081415885,\n",
       " 'recall': 0.9653705900250014,\n",
       " 'f1': 0.8125139643019654}"
      ]
     },
     "execution_count": 4,
     "metadata": {},
     "output_type": "execute_result"
    }
   ],
   "source": [
    "soh.test_model(X_train, y_train, X_test, y_test)"
   ]
  },
  {
   "cell_type": "code",
   "execution_count": 5,
   "metadata": {},
   "outputs": [
    {
     "data": {
      "text/plain": [
       "{'roc_auc': 0.7439886238651707,\n",
       " 'accuracy': 0.7023734913947882,\n",
       " 'precision': 0.6983887267980966,\n",
       " 'recall': 0.9664190147126481,\n",
       " 'f1': 0.8124469276315549}"
      ]
     },
     "execution_count": 5,
     "metadata": {},
     "output_type": "execute_result"
    }
   ],
   "source": [
    "soh.test_model(X_train, y_train, X_test_final, y_test_final)"
   ]
  },
  {
   "cell_type": "code",
   "execution_count": 6,
   "metadata": {
    "scrolled": false
   },
   "outputs": [
    {
     "data": {
      "text/plain": [
       "{'roc_auc': 0.7436540556707055,\n",
       " 'accuracy': 0.7000185016475952,\n",
       " 'precision': 0.6971519901353168,\n",
       " 'recall': 0.9723133690743332,\n",
       " 'f1': 0.8115559566679513}"
      ]
     },
     "execution_count": 6,
     "metadata": {},
     "output_type": "execute_result"
    }
   ],
   "source": [
    "soh.test_model(X_train_big, y_train_big, X_test_final, y_test_final)"
   ]
  },
  {
   "cell_type": "markdown",
   "metadata": {},
   "source": [
    "The numbers look ok, so the model is good enough for insight analysis."
   ]
  },
  {
   "cell_type": "markdown",
   "metadata": {},
   "source": [
    "### Looking for insights"
   ]
  },
  {
   "cell_type": "code",
   "execution_count": 7,
   "metadata": {},
   "outputs": [],
   "source": [
    "from sklearn.metrics import confusion_matrix\n",
    "import matplotlib.pyplot as plt\n",
    "import seaborn as sns"
   ]
  },
  {
   "cell_type": "code",
   "execution_count": 8,
   "metadata": {},
   "outputs": [
    {
     "data": {
      "text/plain": [
       "RandomForestClassifier(bootstrap=True, class_weight=None, criterion='entropy',\n",
       "                       max_depth=7, max_features='auto', max_leaf_nodes=None,\n",
       "                       min_impurity_decrease=0.0, min_impurity_split=None,\n",
       "                       min_samples_leaf=23, min_samples_split=2,\n",
       "                       min_weight_fraction_leaf=0.0, n_estimators=35,\n",
       "                       n_jobs=None, oob_score=False, random_state=None,\n",
       "                       verbose=0, warm_start=False)"
      ]
     },
     "execution_count": 8,
     "metadata": {},
     "output_type": "execute_result"
    }
   ],
   "source": [
    "from sklearn.ensemble import RandomForestClassifier\n",
    "from sklearn.metrics import accuracy_score, precision_score, recall_score, f1_score, roc_auc_score, roc_curve\n",
    "from sklearn.model_selection import cross_val_score\n",
    "\n",
    "rfc = RandomForestClassifier(n_estimators=35, max_depth=7, min_samples_leaf=23, criterion='entropy')\n",
    "rfc.fit(X_train, y_train)"
   ]
  },
  {
   "cell_type": "code",
   "execution_count": 9,
   "metadata": {
    "scrolled": false
   },
   "outputs": [
    {
     "data": {
      "image/png": "[encoded data removed]",
      "text/plain": [
       "<Figure size 600x400 with 2 Axes>"
      ]
     },
     "metadata": {
      "needs_background": "light"
     },
     "output_type": "display_data"
    }
   ],
   "source": [
    "confusion = confusion_matrix(y_test_final, rfc.predict(X_test_final))\n",
    "plt.figure(dpi=100)\n",
    "sns.heatmap(confusion, cmap=plt.cm.Blues, annot=True, fmt='d', square=True,\n",
    "           xticklabels=['Not Satisfied', 'Satisfied'],\n",
    "           yticklabels=['Not Satisfied', 'Satisfied'])\n",
    "\n",
    "plt.xlabel('Predicted Job Satisfaction')\n",
    "plt.ylabel('Actual Job Satisfaction')\n",
    "plt.title('Random Forest confusion matrix');"
   ]
  },
  {
   "cell_type": "markdown",
   "metadata": {},
   "source": [
    "The model is missing a large chunk of employees who report dissatisfaction with thier job, but is particularly good at finding employees who report job satisfaction. The below implementation with a raised threshold can increase the number of accurate predictions."
   ]
  },
  {
   "cell_type": "code",
   "execution_count": 10,
   "metadata": {},
   "outputs": [
    {
     "data": {
      "application/vnd.jupyter.widget-view+json": {
       "model_id": "690c2418c58d4620a4f6be7d5b5144b4",
       "version_major": 2,
       "version_minor": 0
      },
      "text/plain": [
       "interactive(children=(FloatSlider(value=0.5, description='threshold', max=1.0, step=0.02), Output()), _dom_cla…"
      ]
     },
     "metadata": {},
     "output_type": "display_data"
    }
   ],
   "source": [
    "from ipywidgets import interactive, FloatSlider\n",
    "\n",
    "\n",
    "def make_confusion_matrix(model, threshold=0.5):\n",
    "    # Predict class 1 if probability of being in class 1 is greater than threshold\n",
    "    # (model.predict(X_test) does this automatically with a threshold of 0.5)\n",
    "    y_predict = (model.predict_proba(X_test)[:, 1] >= threshold)\n",
    "    fraud_confusion = confusion_matrix(y_test, y_predict)\n",
    "    plt.figure(dpi=80)\n",
    "    sns.heatmap(fraud_confusion, cmap=plt.cm.Blues, annot=True, square=True, fmt='d',\n",
    "           xticklabels=['Not Satisfied', 'Satisfied'],\n",
    "           yticklabels=['Not Satisfied', 'Satisfied'])\n",
    "\n",
    "    plt.xlabel('Predicted Job Satisfaction')\n",
    "    plt.ylabel('Actual Job Satisfaction')\n",
    "    plt.title('Random Forest confusion matrix');\n",
    "\n",
    "interactive(lambda threshold: make_confusion_matrix(rfc, threshold), threshold=(0.0,1.0,0.02))"
   ]
  },
  {
   "cell_type": "code",
   "execution_count": 11,
   "metadata": {},
   "outputs": [
    {
     "data": {
      "text/plain": [
       "array([ True,  True,  True, ...,  True,  True,  True])"
      ]
     },
     "execution_count": 11,
     "metadata": {},
     "output_type": "execute_result"
    }
   ],
   "source": [
    "rfc.predict_proba(X_test)[:,1] >= .64"
   ]
  }
 ],
 "metadata": {
  "kernelspec": {
   "display_name": "Python [conda env:dummy] *",
   "language": "python",
   "name": "conda-env-dummy-py"
  },
  "language_info": {
   "codemirror_mode": {
    "name": "ipython",
    "version": 3
   },
   "file_extension": ".py",
   "mimetype": "text/x-python",
   "name": "python",
   "nbconvert_exporter": "python",
   "pygments_lexer": "ipython3",
   "version": "3.7.4"
  }
 },
 "nbformat": 4,
 "nbformat_minor": 2
}
