{
 "cells": [
  {
   "cell_type": "markdown",
   "metadata": {},
   "source": [
    "### Recap"
   ]
  },
  {
   "cell_type": "markdown",
   "metadata": {},
   "source": [
    "Previously, we took an early look at the data and started evaluating models using only five features. Our naive baseline is set at 0.6616 which is not matched by the early baselines. The metrics are captured below."
   ]
  },
  {
   "cell_type": "markdown",
   "metadata": {},
   "source": [
    "| Metrics | K Nearest Neighbor | Logistic Regression | Gaussian Naive Bayes | Support Vector Machine | Decision Tree | Random Forest | \n",
    "| ----: | :----: | :----: | :----: | :----: | :----: | :----: |\n",
    "| **Accuracy** | 0.595220 | 0.661384 | 0.661384 | 0.661384 | 0.610965 | 0.619717 |\n",
    "| **Precision** | 0.694881 | 0.661384 | 0.661384 | 0.661384 | 0.704984 | 0.698451 |\n",
    "| **Recall** | 0.819655 | 1.000000 | 1.000000 | 1.000000 | 0.923297 | 0.937549 | \n",
    "| **F1** | 0.752129 | 0.796184 | 0.796184 | 0.796184 | 0.799505 | 0.800528 | "
   ]
  },
  {
   "cell_type": "markdown",
   "metadata": {},
   "source": [
    "Since the last notebook, I have written a Python function that will convert the many text values to the numbers needed for analysis. The below data ingestion and conversion is the same as the first notebook.\n",
    "\n",
    "Since a part of the audience (HR departments) would appreciate some analysis into what factors play into job satisfaction and prioritizing intervention efforts, I will pursue logistic regression first. This model has high interpretability and provides insight into probabilities that might be useful for the audience."
   ]
  },
  {
   "cell_type": "markdown",
   "metadata": {},
   "source": [
    "### Getting data into the notebook"
   ]
  },
  {
   "cell_type": "code",
   "execution_count": 1,
   "metadata": {},
   "outputs": [],
   "source": [
    "import pandas as pd\n",
    "import stackoverflow_helper as soh\n",
    "from sklearn.model_selection import train_test_split\n",
    "import matplotlib.pyplot as plt"
   ]
  },
  {
   "cell_type": "code",
   "execution_count": 2,
   "metadata": {},
   "outputs": [],
   "source": [
    "raw_import = pd.read_csv('/Users/pang/repos/stack-overflow-survey/_data/developer_survey_2019/survey_results_public.csv', \\\n",
    "                         index_col='Respondent')"
   ]
  },
  {
   "cell_type": "code",
   "execution_count": 3,
   "metadata": {},
   "outputs": [],
   "source": [
    "# The same dataframe as in the first notebook.\n",
    "df = soh.get_analysis_data(raw_import)\n",
    "\n",
    "# The same rows (observations) as above, \n",
    "# but only the columns that have yet to be evaulated for addition into the model.\n",
    "unused = soh.unused_data(raw_import)"
   ]
  },
  {
   "cell_type": "code",
   "execution_count": 4,
   "metadata": {},
   "outputs": [],
   "source": [
    "y = df['JobSat']\n",
    "X = df.drop(columns='JobSat')\n",
    "X_train, X_test, y_train, y_test = train_test_split(X, y, test_size=0.30, random_state=4444)"
   ]
  },
  {
   "cell_type": "markdown",
   "metadata": {},
   "source": [
    "At this point we are caught up to the previous notebook. Additional analysis/model tuning is next."
   ]
  },
  {
   "cell_type": "markdown",
   "metadata": {},
   "source": [
    "### Review current features"
   ]
  },
  {
   "cell_type": "code",
   "execution_count": 5,
   "metadata": {},
   "outputs": [],
   "source": [
    "import matplotlib.pyplot as plt"
   ]
  },
  {
   "cell_type": "code",
   "execution_count": null,
   "metadata": {},
   "outputs": [],
   "source": [
    "unused['Dependents'].isnull().any()"
   ]
  },
  {
   "cell_type": "code",
   "execution_count": 109,
   "metadata": {},
   "outputs": [
    {
     "data": {
      "text/plain": [
       "The quality of OSS and closed source software is about the same                    26287\n",
       "OSS is, on average, of HIGHER quality than proprietary / closed source software    22802\n",
       "OSS is, on average, of LOWER quality than proprietary / closed source software      5165\n",
       "Name: OpenSource, dtype: int64"
      ]
     },
     "execution_count": 109,
     "metadata": {},
     "output_type": "execute_result"
    }
   ],
   "source": [
    "unused['OpenSource'].value_counts()"
   ]
  },
  {
   "cell_type": "code",
   "execution_count": 76,
   "metadata": {
    "scrolled": true
   },
   "outputs": [
    {
     "data": {
      "text/plain": [
       "Respondent\n",
       "151      160.0\n",
       "238       98.0\n",
       "485      160.0\n",
       "581      100.0\n",
       "617      375.0\n",
       "1116     160.0\n",
       "1125     375.0\n",
       "1507     160.0\n",
       "1697     385.0\n",
       "1776     160.0\n",
       "1819     375.0\n",
       "2058     140.0\n",
       "2064     168.0\n",
       "2145     475.0\n",
       "2215     168.0\n",
       "2226     375.0\n",
       "2241     168.0\n",
       "2430     385.0\n",
       "2567     160.0\n",
       "2954     375.0\n",
       "2956     160.0\n",
       "3017     375.0\n",
       "3804     375.0\n",
       "3894     385.0\n",
       "4080     385.0\n",
       "4133     160.0\n",
       "4324     160.0\n",
       "4593     150.0\n",
       "5330     168.0\n",
       "5532     375.0\n",
       "5698    1012.0\n",
       "5877     160.0\n",
       "5955     375.0\n",
       "6114     375.0\n",
       "6173     375.0\n",
       "6251     168.0\n",
       "6385     113.0\n",
       "6498     160.0\n",
       "6614     160.0\n",
       "6802     395.0\n",
       "6985     385.0\n",
       "7432     375.0\n",
       "7503     160.0\n",
       "8070     100.0\n",
       "8375     375.0\n",
       "8421     375.0\n",
       "8707     375.0\n",
       "8728     375.0\n",
       "8853     375.0\n",
       "8867     385.0\n",
       "Name: WorkWeekHrs, dtype: float64"
      ]
     },
     "execution_count": 76,
     "metadata": {},
     "output_type": "execute_result"
    }
   ],
   "source": [
    "booo = unused[unused['ConvertedComp'] > 90]\n",
    "booo['WorkWeekHrs'].head(50)"
   ]
  },
  {
   "cell_type": "code",
   "execution_count": 64,
   "metadata": {
    "scrolled": true
   },
   "outputs": [
    {
     "data": {
      "text/plain": [
       "Index(['OpenSource', 'Country', 'EdLevel', 'UndergradMajor', 'EduOther',\n",
       "       'DevType', 'Age1stCode', 'YearsCodePro', 'LastInt', 'JobFactors',\n",
       "       'ResumeUpdate', 'ConvertedComp', 'WorkWeekHrs', 'WorkPlan',\n",
       "       'WorkChallenge', 'WorkRemote', 'WorkLoc', 'ImpSyn', 'CodeRev',\n",
       "       'CodeRevHrs', 'UnitTests', 'PurchaseHow', 'PurchaseWhat',\n",
       "       'LanguageWorkedWith', 'LanguageDesireNextYear', 'DatabaseWorkedWith',\n",
       "       'DatabaseDesireNextYear', 'PlatformWorkedWith',\n",
       "       'PlatformDesireNextYear', 'WebFrameWorkedWith',\n",
       "       'WebFrameDesireNextYear', 'MiscTechWorkedWith',\n",
       "       'MiscTechDesireNextYear', 'DevEnviron', 'OpSys', 'Containers',\n",
       "       'BlockchainOrg', 'BlockchainIs', 'BetterLife', 'ITperson', 'OffOn',\n",
       "       'SocialMedia', 'Extraversion', 'ScreenName', 'SOVisit1st', 'SOVisitTo',\n",
       "       'SOFindAnswer', 'SOTimeSaved', 'SOHowMuchTime', 'SOAccount'],\n",
       "      dtype='object')"
      ]
     },
     "execution_count": 64,
     "metadata": {},
     "output_type": "execute_result"
    }
   ],
   "source": [
    "view_df.columns"
   ]
  },
  {
   "cell_type": "code",
   "execution_count": 108,
   "metadata": {},
   "outputs": [
    {
     "data": {
      "text/html": [
       "<div>\n",
       "<style scoped>\n",
       "    .dataframe tbody tr th:only-of-type {\n",
       "        vertical-align: middle;\n",
       "    }\n",
       "\n",
       "    .dataframe tbody tr th {\n",
       "        vertical-align: top;\n",
       "    }\n",
       "\n",
       "    .dataframe thead th {\n",
       "        text-align: right;\n",
       "    }\n",
       "</style>\n",
       "<table border=\"1\" class=\"dataframe\">\n",
       "  <thead>\n",
       "    <tr style=\"text-align: right;\">\n",
       "      <th></th>\n",
       "      <th>OpenSource</th>\n",
       "      <th>Country</th>\n",
       "      <th>EdLevel</th>\n",
       "      <th>UndergradMajor</th>\n",
       "      <th>EduOther</th>\n",
       "      <th>DevType</th>\n",
       "      <th>Age1stCode</th>\n",
       "      <th>YearsCodePro</th>\n",
       "      <th>LastInt</th>\n",
       "      <th>JobFactors</th>\n",
       "      <th>...</th>\n",
       "      <th>OffOn</th>\n",
       "      <th>SocialMedia</th>\n",
       "      <th>Extraversion</th>\n",
       "      <th>ScreenName</th>\n",
       "      <th>SOVisit1st</th>\n",
       "      <th>SOVisitTo</th>\n",
       "      <th>SOFindAnswer</th>\n",
       "      <th>SOTimeSaved</th>\n",
       "      <th>SOHowMuchTime</th>\n",
       "      <th>SOAccount</th>\n",
       "    </tr>\n",
       "    <tr>\n",
       "      <th>Respondent</th>\n",
       "      <th></th>\n",
       "      <th></th>\n",
       "      <th></th>\n",
       "      <th></th>\n",
       "      <th></th>\n",
       "      <th></th>\n",
       "      <th></th>\n",
       "      <th></th>\n",
       "      <th></th>\n",
       "      <th></th>\n",
       "      <th></th>\n",
       "      <th></th>\n",
       "      <th></th>\n",
       "      <th></th>\n",
       "      <th></th>\n",
       "      <th></th>\n",
       "      <th></th>\n",
       "      <th></th>\n",
       "      <th></th>\n",
       "      <th></th>\n",
       "      <th></th>\n",
       "    </tr>\n",
       "  </thead>\n",
       "  <tbody>\n",
       "    <tr>\n",
       "      <th>4</th>\n",
       "      <td>The quality of OSS and closed source software ...</td>\n",
       "      <td>United States</td>\n",
       "      <td>Bachelor’s degree (BA, BS, B.Eng., etc.)</td>\n",
       "      <td>Computer science, computer engineering, or sof...</td>\n",
       "      <td>Taken an online course in programming or softw...</td>\n",
       "      <td>Developer, full-stack</td>\n",
       "      <td>16</td>\n",
       "      <td>Less than 1 year</td>\n",
       "      <td>Write code by hand (e.g., on a whiteboard);Int...</td>\n",
       "      <td>Languages, frameworks, and other technologies ...</td>\n",
       "      <td>...</td>\n",
       "      <td>Yes</td>\n",
       "      <td>Reddit</td>\n",
       "      <td>In real life (in person)</td>\n",
       "      <td>Username</td>\n",
       "      <td>2014</td>\n",
       "      <td>Find answers to specific questions;Pass the ti...</td>\n",
       "      <td>1-2 times per week</td>\n",
       "      <td>Stack Overflow was much faster</td>\n",
       "      <td>31-60 minutes</td>\n",
       "      <td>Yes</td>\n",
       "    </tr>\n",
       "    <tr>\n",
       "      <th>5</th>\n",
       "      <td>OSS is, on average, of HIGHER quality than pro...</td>\n",
       "      <td>Ukraine</td>\n",
       "      <td>Bachelor’s degree (BA, BS, B.Eng., etc.)</td>\n",
       "      <td>Computer science, computer engineering, or sof...</td>\n",
       "      <td>Taken an online course in programming or softw...</td>\n",
       "      <td>Academic researcher;Developer, desktop or ente...</td>\n",
       "      <td>14</td>\n",
       "      <td>9</td>\n",
       "      <td>Write any code;Write code by hand (e.g., on a ...</td>\n",
       "      <td>Industry that I'd be working in;Languages, fra...</td>\n",
       "      <td>...</td>\n",
       "      <td>Yes</td>\n",
       "      <td>Facebook</td>\n",
       "      <td>In real life (in person)</td>\n",
       "      <td>Username</td>\n",
       "      <td>I don't remember</td>\n",
       "      <td>Find answers to specific questions</td>\n",
       "      <td>More than 10 times per week</td>\n",
       "      <td>Stack Overflow was much faster</td>\n",
       "      <td>NaN</td>\n",
       "      <td>Yes</td>\n",
       "    </tr>\n",
       "    <tr>\n",
       "      <th>9</th>\n",
       "      <td>The quality of OSS and closed source software ...</td>\n",
       "      <td>New Zealand</td>\n",
       "      <td>Some college/university study without earning ...</td>\n",
       "      <td>Computer science, computer engineering, or sof...</td>\n",
       "      <td>Taken an online course in programming or softw...</td>\n",
       "      <td>Database administrator;Developer, back-end;Dev...</td>\n",
       "      <td>11</td>\n",
       "      <td>4</td>\n",
       "      <td>Write any code;Interview with people in peer r...</td>\n",
       "      <td>Financial performance or funding status of the...</td>\n",
       "      <td>...</td>\n",
       "      <td>Yes</td>\n",
       "      <td>Twitter</td>\n",
       "      <td>In real life (in person)</td>\n",
       "      <td>Username</td>\n",
       "      <td>2013</td>\n",
       "      <td>Find answers to specific questions;Contribute ...</td>\n",
       "      <td>3-5 times per week</td>\n",
       "      <td>They were about the same</td>\n",
       "      <td>NaN</td>\n",
       "      <td>Yes</td>\n",
       "    </tr>\n",
       "    <tr>\n",
       "      <th>10</th>\n",
       "      <td>OSS is, on average, of HIGHER quality than pro...</td>\n",
       "      <td>India</td>\n",
       "      <td>Master’s degree (MA, MS, M.Eng., MBA, etc.)</td>\n",
       "      <td>NaN</td>\n",
       "      <td>NaN</td>\n",
       "      <td>Data or business analyst;Data scientist or mac...</td>\n",
       "      <td>20</td>\n",
       "      <td>10</td>\n",
       "      <td>NaN</td>\n",
       "      <td>Languages, frameworks, and other technologies ...</td>\n",
       "      <td>...</td>\n",
       "      <td>Yes</td>\n",
       "      <td>YouTube</td>\n",
       "      <td>Neither</td>\n",
       "      <td>Screen Name</td>\n",
       "      <td>NaN</td>\n",
       "      <td>Find answers to specific questions;Get a sense...</td>\n",
       "      <td>3-5 times per week</td>\n",
       "      <td>They were about the same</td>\n",
       "      <td>NaN</td>\n",
       "      <td>Yes</td>\n",
       "    </tr>\n",
       "    <tr>\n",
       "      <th>13</th>\n",
       "      <td>OSS is, on average, of HIGHER quality than pro...</td>\n",
       "      <td>United States</td>\n",
       "      <td>Master’s degree (MA, MS, M.Eng., MBA, etc.)</td>\n",
       "      <td>Computer science, computer engineering, or sof...</td>\n",
       "      <td>Taken an online course in programming or softw...</td>\n",
       "      <td>Data or business analyst;Database administrato...</td>\n",
       "      <td>11</td>\n",
       "      <td>8</td>\n",
       "      <td>Complete a take-home project;Interview with pe...</td>\n",
       "      <td>Languages, frameworks, and other technologies ...</td>\n",
       "      <td>...</td>\n",
       "      <td>Yes</td>\n",
       "      <td>Twitter</td>\n",
       "      <td>In real life (in person)</td>\n",
       "      <td>Username</td>\n",
       "      <td>2011</td>\n",
       "      <td>Find answers to specific questions</td>\n",
       "      <td>More than 10 times per week</td>\n",
       "      <td>Stack Overflow was much faster</td>\n",
       "      <td>11-30 minutes</td>\n",
       "      <td>Yes</td>\n",
       "    </tr>\n",
       "    <tr>\n",
       "      <th>...</th>\n",
       "      <td>...</td>\n",
       "      <td>...</td>\n",
       "      <td>...</td>\n",
       "      <td>...</td>\n",
       "      <td>...</td>\n",
       "      <td>...</td>\n",
       "      <td>...</td>\n",
       "      <td>...</td>\n",
       "      <td>...</td>\n",
       "      <td>...</td>\n",
       "      <td>...</td>\n",
       "      <td>...</td>\n",
       "      <td>...</td>\n",
       "      <td>...</td>\n",
       "      <td>...</td>\n",
       "      <td>...</td>\n",
       "      <td>...</td>\n",
       "      <td>...</td>\n",
       "      <td>...</td>\n",
       "      <td>...</td>\n",
       "      <td>...</td>\n",
       "    </tr>\n",
       "    <tr>\n",
       "      <th>88878</th>\n",
       "      <td>The quality of OSS and closed source software ...</td>\n",
       "      <td>United States</td>\n",
       "      <td>Bachelor’s degree (BA, BS, B.Eng., etc.)</td>\n",
       "      <td>Computer science, computer engineering, or sof...</td>\n",
       "      <td>Taken an online course in programming or softw...</td>\n",
       "      <td>Developer, back-end;Developer, front-end;Devel...</td>\n",
       "      <td>14</td>\n",
       "      <td>3</td>\n",
       "      <td>Write any code;Write code by hand (e.g., on a ...</td>\n",
       "      <td>Languages, frameworks, and other technologies ...</td>\n",
       "      <td>...</td>\n",
       "      <td>Yes</td>\n",
       "      <td>Twitter</td>\n",
       "      <td>Online</td>\n",
       "      <td>Username</td>\n",
       "      <td>2010</td>\n",
       "      <td>Find answers to specific questions;Learn how t...</td>\n",
       "      <td>3-5 times per week</td>\n",
       "      <td>Stack Overflow was much faster</td>\n",
       "      <td>0-10 minutes</td>\n",
       "      <td>Yes</td>\n",
       "    </tr>\n",
       "    <tr>\n",
       "      <th>88879</th>\n",
       "      <td>The quality of OSS and closed source software ...</td>\n",
       "      <td>Finland</td>\n",
       "      <td>Master’s degree (MA, MS, M.Eng., MBA, etc.)</td>\n",
       "      <td>Computer science, computer engineering, or sof...</td>\n",
       "      <td>Taught yourself a new language, framework, or ...</td>\n",
       "      <td>Developer, desktop or enterprise applications;...</td>\n",
       "      <td>16</td>\n",
       "      <td>7</td>\n",
       "      <td>Complete a take-home project;Interview with pe...</td>\n",
       "      <td>Languages, frameworks, and other technologies ...</td>\n",
       "      <td>...</td>\n",
       "      <td>NaN</td>\n",
       "      <td>YouTube</td>\n",
       "      <td>Neither</td>\n",
       "      <td>Username</td>\n",
       "      <td>I don't remember</td>\n",
       "      <td>Find answers to specific questions</td>\n",
       "      <td>Less than once per week</td>\n",
       "      <td>Stack Overflow was slightly faster</td>\n",
       "      <td>60+ minutes</td>\n",
       "      <td>No</td>\n",
       "    </tr>\n",
       "    <tr>\n",
       "      <th>88881</th>\n",
       "      <td>OSS is, on average, of HIGHER quality than pro...</td>\n",
       "      <td>Austria</td>\n",
       "      <td>Master’s degree (MA, MS, M.Eng., MBA, etc.)</td>\n",
       "      <td>Computer science, computer engineering, or sof...</td>\n",
       "      <td>Taken an online course in programming or softw...</td>\n",
       "      <td>Developer, full-stack;Engineer, site reliability</td>\n",
       "      <td>17</td>\n",
       "      <td>9</td>\n",
       "      <td>Write any code;Complete a take-home project;In...</td>\n",
       "      <td>Office environment or company culture;Diversit...</td>\n",
       "      <td>...</td>\n",
       "      <td>Yes</td>\n",
       "      <td>NaN</td>\n",
       "      <td>Online</td>\n",
       "      <td>Login</td>\n",
       "      <td>2008</td>\n",
       "      <td>Find answers to specific questions</td>\n",
       "      <td>More than 10 times per week</td>\n",
       "      <td>Stack Overflow was slightly faster</td>\n",
       "      <td>11-30 minutes</td>\n",
       "      <td>Yes</td>\n",
       "    </tr>\n",
       "    <tr>\n",
       "      <th>88882</th>\n",
       "      <td>OSS is, on average, of LOWER quality than prop...</td>\n",
       "      <td>Netherlands</td>\n",
       "      <td>Master’s degree (MA, MS, M.Eng., MBA, etc.)</td>\n",
       "      <td>Computer science, computer engineering, or sof...</td>\n",
       "      <td>Participated in online coding competitions (e....</td>\n",
       "      <td>Academic researcher;Database administrator;Dev...</td>\n",
       "      <td>15</td>\n",
       "      <td>8</td>\n",
       "      <td>Write any code;Complete a take-home project;In...</td>\n",
       "      <td>Office environment or company culture;Remote w...</td>\n",
       "      <td>...</td>\n",
       "      <td>Yes</td>\n",
       "      <td>Instagram</td>\n",
       "      <td>Neither</td>\n",
       "      <td>Username</td>\n",
       "      <td>2009</td>\n",
       "      <td>Find answers to specific questions</td>\n",
       "      <td>3-5 times per week</td>\n",
       "      <td>Stack Overflow was slightly faster</td>\n",
       "      <td>11-30 minutes</td>\n",
       "      <td>Yes</td>\n",
       "    </tr>\n",
       "    <tr>\n",
       "      <th>88883</th>\n",
       "      <td>OSS is, on average, of HIGHER quality than pro...</td>\n",
       "      <td>Greece</td>\n",
       "      <td>Bachelor’s degree (BA, BS, B.Eng., etc.)</td>\n",
       "      <td>Computer science, computer engineering, or sof...</td>\n",
       "      <td>Taught yourself a new language, framework, or ...</td>\n",
       "      <td>Developer, back-end;Developer, desktop or ente...</td>\n",
       "      <td>15</td>\n",
       "      <td>5</td>\n",
       "      <td>Interview with people in senior / management r...</td>\n",
       "      <td>Financial performance or funding status of the...</td>\n",
       "      <td>...</td>\n",
       "      <td>Yes</td>\n",
       "      <td>Reddit</td>\n",
       "      <td>In real life (in person)</td>\n",
       "      <td>Username</td>\n",
       "      <td>2008</td>\n",
       "      <td>Find answers to specific questions;Learn how t...</td>\n",
       "      <td>1-2 times per week</td>\n",
       "      <td>They were about the same</td>\n",
       "      <td>NaN</td>\n",
       "      <td>Yes</td>\n",
       "    </tr>\n",
       "  </tbody>\n",
       "</table>\n",
       "<p>55166 rows × 48 columns</p>\n",
       "</div>"
      ],
      "text/plain": [
       "                                                   OpenSource        Country  \\\n",
       "Respondent                                                                     \n",
       "4           The quality of OSS and closed source software ...  United States   \n",
       "5           OSS is, on average, of HIGHER quality than pro...        Ukraine   \n",
       "9           The quality of OSS and closed source software ...    New Zealand   \n",
       "10          OSS is, on average, of HIGHER quality than pro...          India   \n",
       "13          OSS is, on average, of HIGHER quality than pro...  United States   \n",
       "...                                                       ...            ...   \n",
       "88878       The quality of OSS and closed source software ...  United States   \n",
       "88879       The quality of OSS and closed source software ...        Finland   \n",
       "88881       OSS is, on average, of HIGHER quality than pro...        Austria   \n",
       "88882       OSS is, on average, of LOWER quality than prop...    Netherlands   \n",
       "88883       OSS is, on average, of HIGHER quality than pro...         Greece   \n",
       "\n",
       "                                                      EdLevel  \\\n",
       "Respondent                                                      \n",
       "4                    Bachelor’s degree (BA, BS, B.Eng., etc.)   \n",
       "5                    Bachelor’s degree (BA, BS, B.Eng., etc.)   \n",
       "9           Some college/university study without earning ...   \n",
       "10                Master’s degree (MA, MS, M.Eng., MBA, etc.)   \n",
       "13                Master’s degree (MA, MS, M.Eng., MBA, etc.)   \n",
       "...                                                       ...   \n",
       "88878                Bachelor’s degree (BA, BS, B.Eng., etc.)   \n",
       "88879             Master’s degree (MA, MS, M.Eng., MBA, etc.)   \n",
       "88881             Master’s degree (MA, MS, M.Eng., MBA, etc.)   \n",
       "88882             Master’s degree (MA, MS, M.Eng., MBA, etc.)   \n",
       "88883                Bachelor’s degree (BA, BS, B.Eng., etc.)   \n",
       "\n",
       "                                               UndergradMajor  \\\n",
       "Respondent                                                      \n",
       "4           Computer science, computer engineering, or sof...   \n",
       "5           Computer science, computer engineering, or sof...   \n",
       "9           Computer science, computer engineering, or sof...   \n",
       "10                                                        NaN   \n",
       "13          Computer science, computer engineering, or sof...   \n",
       "...                                                       ...   \n",
       "88878       Computer science, computer engineering, or sof...   \n",
       "88879       Computer science, computer engineering, or sof...   \n",
       "88881       Computer science, computer engineering, or sof...   \n",
       "88882       Computer science, computer engineering, or sof...   \n",
       "88883       Computer science, computer engineering, or sof...   \n",
       "\n",
       "                                                     EduOther  \\\n",
       "Respondent                                                      \n",
       "4           Taken an online course in programming or softw...   \n",
       "5           Taken an online course in programming or softw...   \n",
       "9           Taken an online course in programming or softw...   \n",
       "10                                                        NaN   \n",
       "13          Taken an online course in programming or softw...   \n",
       "...                                                       ...   \n",
       "88878       Taken an online course in programming or softw...   \n",
       "88879       Taught yourself a new language, framework, or ...   \n",
       "88881       Taken an online course in programming or softw...   \n",
       "88882       Participated in online coding competitions (e....   \n",
       "88883       Taught yourself a new language, framework, or ...   \n",
       "\n",
       "                                                      DevType Age1stCode  \\\n",
       "Respondent                                                                 \n",
       "4                                       Developer, full-stack         16   \n",
       "5           Academic researcher;Developer, desktop or ente...         14   \n",
       "9           Database administrator;Developer, back-end;Dev...         11   \n",
       "10          Data or business analyst;Data scientist or mac...         20   \n",
       "13          Data or business analyst;Database administrato...         11   \n",
       "...                                                       ...        ...   \n",
       "88878       Developer, back-end;Developer, front-end;Devel...         14   \n",
       "88879       Developer, desktop or enterprise applications;...         16   \n",
       "88881        Developer, full-stack;Engineer, site reliability         17   \n",
       "88882       Academic researcher;Database administrator;Dev...         15   \n",
       "88883       Developer, back-end;Developer, desktop or ente...         15   \n",
       "\n",
       "                YearsCodePro  \\\n",
       "Respondent                     \n",
       "4           Less than 1 year   \n",
       "5                          9   \n",
       "9                          4   \n",
       "10                        10   \n",
       "13                         8   \n",
       "...                      ...   \n",
       "88878                      3   \n",
       "88879                      7   \n",
       "88881                      9   \n",
       "88882                      8   \n",
       "88883                      5   \n",
       "\n",
       "                                                      LastInt  \\\n",
       "Respondent                                                      \n",
       "4           Write code by hand (e.g., on a whiteboard);Int...   \n",
       "5           Write any code;Write code by hand (e.g., on a ...   \n",
       "9           Write any code;Interview with people in peer r...   \n",
       "10                                                        NaN   \n",
       "13          Complete a take-home project;Interview with pe...   \n",
       "...                                                       ...   \n",
       "88878       Write any code;Write code by hand (e.g., on a ...   \n",
       "88879       Complete a take-home project;Interview with pe...   \n",
       "88881       Write any code;Complete a take-home project;In...   \n",
       "88882       Write any code;Complete a take-home project;In...   \n",
       "88883       Interview with people in senior / management r...   \n",
       "\n",
       "                                                   JobFactors  ... OffOn  \\\n",
       "Respondent                                                     ...         \n",
       "4           Languages, frameworks, and other technologies ...  ...   Yes   \n",
       "5           Industry that I'd be working in;Languages, fra...  ...   Yes   \n",
       "9           Financial performance or funding status of the...  ...   Yes   \n",
       "10          Languages, frameworks, and other technologies ...  ...   Yes   \n",
       "13          Languages, frameworks, and other technologies ...  ...   Yes   \n",
       "...                                                       ...  ...   ...   \n",
       "88878       Languages, frameworks, and other technologies ...  ...   Yes   \n",
       "88879       Languages, frameworks, and other technologies ...  ...   NaN   \n",
       "88881       Office environment or company culture;Diversit...  ...   Yes   \n",
       "88882       Office environment or company culture;Remote w...  ...   Yes   \n",
       "88883       Financial performance or funding status of the...  ...   Yes   \n",
       "\n",
       "            SocialMedia              Extraversion   ScreenName  \\\n",
       "Respondent                                                       \n",
       "4                Reddit  In real life (in person)     Username   \n",
       "5              Facebook  In real life (in person)     Username   \n",
       "9               Twitter  In real life (in person)     Username   \n",
       "10              YouTube                   Neither  Screen Name   \n",
       "13              Twitter  In real life (in person)     Username   \n",
       "...                 ...                       ...          ...   \n",
       "88878           Twitter                    Online     Username   \n",
       "88879           YouTube                   Neither     Username   \n",
       "88881               NaN                    Online        Login   \n",
       "88882         Instagram                   Neither     Username   \n",
       "88883            Reddit  In real life (in person)     Username   \n",
       "\n",
       "                  SOVisit1st  \\\n",
       "Respondent                     \n",
       "4                       2014   \n",
       "5           I don't remember   \n",
       "9                       2013   \n",
       "10                       NaN   \n",
       "13                      2011   \n",
       "...                      ...   \n",
       "88878                   2010   \n",
       "88879       I don't remember   \n",
       "88881                   2008   \n",
       "88882                   2009   \n",
       "88883                   2008   \n",
       "\n",
       "                                                    SOVisitTo  \\\n",
       "Respondent                                                      \n",
       "4           Find answers to specific questions;Pass the ti...   \n",
       "5                          Find answers to specific questions   \n",
       "9           Find answers to specific questions;Contribute ...   \n",
       "10          Find answers to specific questions;Get a sense...   \n",
       "13                         Find answers to specific questions   \n",
       "...                                                       ...   \n",
       "88878       Find answers to specific questions;Learn how t...   \n",
       "88879                      Find answers to specific questions   \n",
       "88881                      Find answers to specific questions   \n",
       "88882                      Find answers to specific questions   \n",
       "88883       Find answers to specific questions;Learn how t...   \n",
       "\n",
       "                           SOFindAnswer                         SOTimeSaved  \\\n",
       "Respondent                                                                    \n",
       "4                    1-2 times per week      Stack Overflow was much faster   \n",
       "5           More than 10 times per week      Stack Overflow was much faster   \n",
       "9                    3-5 times per week            They were about the same   \n",
       "10                   3-5 times per week            They were about the same   \n",
       "13          More than 10 times per week      Stack Overflow was much faster   \n",
       "...                                 ...                                 ...   \n",
       "88878                3-5 times per week      Stack Overflow was much faster   \n",
       "88879           Less than once per week  Stack Overflow was slightly faster   \n",
       "88881       More than 10 times per week  Stack Overflow was slightly faster   \n",
       "88882                3-5 times per week  Stack Overflow was slightly faster   \n",
       "88883                1-2 times per week            They were about the same   \n",
       "\n",
       "            SOHowMuchTime SOAccount  \n",
       "Respondent                           \n",
       "4           31-60 minutes       Yes  \n",
       "5                     NaN       Yes  \n",
       "9                     NaN       Yes  \n",
       "10                    NaN       Yes  \n",
       "13          11-30 minutes       Yes  \n",
       "...                   ...       ...  \n",
       "88878        0-10 minutes       Yes  \n",
       "88879         60+ minutes        No  \n",
       "88881       11-30 minutes       Yes  \n",
       "88882       11-30 minutes       Yes  \n",
       "88883                 NaN       Yes  \n",
       "\n",
       "[55166 rows x 48 columns]"
      ]
     },
     "execution_count": 108,
     "metadata": {},
     "output_type": "execute_result"
    }
   ],
   "source": [
    "view_df =  unused.drop(columns = ['Student', 'Dependents', 'Age', \n",
    "                                  'CareerSat', 'JobSat', 'OrgSize', \n",
    "                                  'MgrWant', 'MgrMoney', 'JobSeek', 'ConvertedComp',\n",
    "                                  'Gender', 'Sexuality', 'Ethnicity', 'Trans',\n",
    "                                  'SurveyEase', 'SurveyLength', 'SONewContent', 'WelcomeChange', 'SOComm',\n",
    "                                  'EntTeams', 'SOJobs', 'SOPartFreq', 'FizzBuzz',\n",
    "                                  'PurchaseWhat'\n",
    "                                 ])\n",
    "view_df"
   ]
  },
  {
   "cell_type": "code",
   "execution_count": null,
   "metadata": {},
   "outputs": [],
   "source": []
  },
  {
   "cell_type": "code",
   "execution_count": 110,
   "metadata": {},
   "outputs": [],
   "source": [
    "new_values ={\n",
    "    'JobSat' : {\n",
    "        'Very satisfied' : 1,\n",
    "        'Slightly satisfied' : 1,\n",
    "        'Slightly dissatisfied' : 0,\n",
    "        'Very dissatisfied' : 0,\n",
    "        'Neither satisfied nor dissatisfied' : 0\n",
    "    },   \n",
    "    'Student' : {\n",
    "        'No' : 0,\n",
    "        'Yes, full-time' : .5,\n",
    "        'Yes, part-time' : 1\n",
    "    },\n",
    "    'Dependents' : {\n",
    "        'Yes' : 1,\n",
    "        'No' : 0\n",
    "    },\n",
    "    'MgrMoney' : {\n",
    "        'Not sure' : 0.5,\n",
    "        'Yes' : 1,\n",
    "        'No' : 0\n",
    "    },\n",
    "    'OrgSize' : {\n",
    "        '20 to 99 employees' : 20,\n",
    "        '100 to 499 employees' : 100,\n",
    "        '10,000 or more employees' : 10000,\n",
    "        '1,000 to 4,999 employees' : 1000,\n",
    "        '10 to 19 employees': 10,\n",
    "        '2-9 employees' : 2,\n",
    "        '500 to 999 employees' : 500,\n",
    "        '5,000 to 9,999 employees' : 5000,\n",
    "        'Just me - I am a freelancer, sole proprietor, etc.' : 0\n",
    "    },\n",
    "    'MgrWant' : {\n",
    "        'Not sure' : .5,\n",
    "        'No' : 0,\n",
    "        'Yes' : 1,\n",
    "        'I am already a manager' : 0\n",
    "    },\n",
    "    'SOPartFreq' : {\n",
    "        'Less than once per month or monthly' : 1,\n",
    "        'I have never participated in Q&A on Stack Overflow' : 0,\n",
    "        'A few times per month or weekly' : 5,\n",
    "        'A few times per week' : 10,\n",
    "        'Daily or almost daily' : 20,\n",
    "        'Multiple times per day' : 40\n",
    "    },\n",
    "    'MgrMoney' : {\n",
    "        'No' : 0,\n",
    "        'Yes' : 1,\n",
    "        'Not sure' : .5\n",
    "    },\n",
    "    'PurchaseWhat' : {\n",
    "        'I have little or no influence' : 0,\n",
    "        'I have some influence' : .5,\n",
    "        'I have a great deal of influence' : 1\n",
    "    },\n",
    "    'OpenSource' : {\n",
    "        'The quality of OSS and closed source software is about the same' : .5,\n",
    "        'OSS is, on average, of HIGHER quality than proprietary / closed source software' : 1,\n",
    "        'OSS is, on average, of LOWER quality than proprietary / closed source software' : 0\n",
    "    }\n",
    "\n",
    "}"
   ]
  },
  {
   "cell_type": "code",
   "execution_count": 111,
   "metadata": {},
   "outputs": [],
   "source": [
    "new = soh.replace_data(unused, new_values)\n",
    "for column in ['Age', 'ConvertedComp']:\n",
    "    new[column] = unused[column]"
   ]
  },
  {
   "cell_type": "code",
   "execution_count": 112,
   "metadata": {},
   "outputs": [],
   "source": [
    "uy = new['JobSat']\n",
    "uX = new.drop(columns='JobSat')\n",
    "X_train, X_test, y_train, y_test = train_test_split(uX, uy, test_size=0.30, random_state=4444)"
   ]
  },
  {
   "cell_type": "code",
   "execution_count": 113,
   "metadata": {},
   "outputs": [],
   "source": [
    "X_train = X_train.fillna(X_train.mean())"
   ]
  },
  {
   "cell_type": "code",
   "execution_count": 114,
   "metadata": {
    "scrolled": false
   },
   "outputs": [
    {
     "data": {
      "image/png": "[encoded data removed]",
      "text/plain": [
       "<Figure size 720x216 with 1 Axes>"
      ]
     },
     "metadata": {
      "needs_background": "light"
     },
     "output_type": "display_data"
    },
    {
     "data": {
      "image/png": "[encoded data removed]",
      "text/plain": [
       "<Figure size 720x216 with 1 Axes>"
      ]
     },
     "metadata": {
      "needs_background": "light"
     },
     "output_type": "display_data"
    },
    {
     "data": {
      "image/png": "[encoded data removed]",
      "text/plain": [
       "<Figure size 720x216 with 1 Axes>"
      ]
     },
     "metadata": {
      "needs_background": "light"
     },
     "output_type": "display_data"
    },
    {
     "data": {
      "image/png": "[encoded data removed]",
      "text/plain": [
       "<Figure size 720x216 with 1 Axes>"
      ]
     },
     "metadata": {
      "needs_background": "light"
     },
     "output_type": "display_data"
    },
    {
     "data": {
      "image/png": "[encoded data removed]",
      "text/plain": [
       "<Figure size 720x216 with 1 Axes>"
      ]
     },
     "metadata": {
      "needs_background": "light"
     },
     "output_type": "display_data"
    },
    {
     "data": {
      "image/png": "[encoded data removed]",
      "text/plain": [
       "<Figure size 720x216 with 1 Axes>"
      ]
     },
     "metadata": {
      "needs_background": "light"
     },
     "output_type": "display_data"
    },
    {
     "data": {
      "image/png": "[encoded data removed]",
      "text/plain": [
       "<Figure size 720x216 with 1 Axes>"
      ]
     },
     "metadata": {
      "needs_background": "light"
     },
     "output_type": "display_data"
    },
    {
     "data": {
      "image/png": "[encoded data removed]",
      "text/plain": [
       "<Figure size 720x216 with 1 Axes>"
      ]
     },
     "metadata": {
      "needs_background": "light"
     },
     "output_type": "display_data"
    },
    {
     "data": {
      "image/png": "[encoded data removed]",
      "text/plain": [
       "<Figure size 720x216 with 1 Axes>"
      ]
     },
     "metadata": {
      "needs_background": "light"
     },
     "output_type": "display_data"
    },
    {
     "data": {
      "image/png": "[encoded data removed]",
      "text/plain": [
       "<Figure size 720x216 with 1 Axes>"
      ]
     },
     "metadata": {
      "needs_background": "light"
     },
     "output_type": "display_data"
    }
   ],
   "source": [
    "for col in X_train.columns:\n",
    "    fig, ax = plt.subplots(1, 1, figsize=(10, 3))  # 3 Rows, 1 Col\n",
    "\n",
    "    plt.hist(X_train.loc[(y_train==1), col], bins=25, alpha=.3, label='Satisfied with job')\n",
    "    plt.hist(X_train.loc[(y_train==0), col], bins=25, alpha=.5, label='Not satisfied')\n",
    "\n",
    "    plt.legend();\n",
    "    plt.suptitle(col);"
   ]
  },
  {
   "cell_type": "code",
   "execution_count": null,
   "metadata": {},
   "outputs": [],
   "source": [
    "import seaborn as sns"
   ]
  },
  {
   "cell_type": "code",
   "execution_count": null,
   "metadata": {},
   "outputs": [],
   "source": [
    "sns.pairplot(new, kind='scatter', diag_kind='kde');"
   ]
  },
  {
   "cell_type": "code",
   "execution_count": null,
   "metadata": {},
   "outputs": [],
   "source": [
    "unused"
   ]
  },
  {
   "cell_type": "markdown",
   "metadata": {},
   "source": [
    "### Splitting set"
   ]
  },
  {
   "cell_type": "code",
   "execution_count": 6,
   "metadata": {
    "scrolled": true
   },
   "outputs": [],
   "source": [
    "# Evaluating models\n",
    "from sklearn.metrics import accuracy_score, precision_score, recall_score, f1_score, roc_auc_score, roc_curve\n",
    "from sklearn.model_selection import train_test_split, learning_curve, cross_val_score\n",
    "\n",
    "# Classifiers\n",
    "from sklearn.neighbors import KNeighborsClassifier\n",
    "from sklearn.linear_model import LogisticRegression\n",
    "from sklearn.naive_bayes import GaussianNB\n",
    "from sklearn.svm import SVC\n",
    "from sklearn.tree import DecisionTreeClassifier\n",
    "from sklearn.ensemble import RandomForestClassifier"
   ]
  },
  {
   "cell_type": "code",
   "execution_count": 7,
   "metadata": {},
   "outputs": [],
   "source": [
    "y = df['JobSat']\n",
    "X = df.drop(columns='JobSat')\n",
    "X_train, X_test, y_train, y_test = train_test_split(X, y, test_size=0.30, random_state=4444)"
   ]
  },
  {
   "cell_type": "markdown",
   "metadata": {},
   "source": [
    "### See what fits on the models"
   ]
  },
  {
   "cell_type": "code",
   "execution_count": 8,
   "metadata": {
    "scrolled": false
   },
   "outputs": [
    {
     "data": {
      "text/plain": [
       "GaussianNB(priors=None, var_smoothing=1e-09)"
      ]
     },
     "execution_count": 8,
     "metadata": {},
     "output_type": "execute_result"
    }
   ],
   "source": [
    "#knn = KNeighborsClassifier()\n",
    "#knn.fit(X_train, y_train)\n",
    "\n",
    "lr = LogisticRegression(solver= 'liblinear')\n",
    "lr.fit(X_train, y_train)\n",
    "\n",
    "gnb = GaussianNB()\n",
    "gnb.fit(X_train, y_train)\n",
    "\n",
    "#svc = SVC(gamma='scale')\n",
    "#svc.fit(X_train, y_train)\n",
    "\n",
    "#rfc = RandomForestClassifier(n_estimators=10)\n",
    "#rfc.fit(X_train, y_train)\n",
    "\n",
    "#dtc = DecisionTreeClassifier()\n",
    "#dtc.fit(X_train, y_train)"
   ]
  },
  {
   "cell_type": "code",
   "execution_count": 9,
   "metadata": {},
   "outputs": [
    {
     "data": {
      "text/html": [
       "<div>\n",
       "<style scoped>\n",
       "    .dataframe tbody tr th:only-of-type {\n",
       "        vertical-align: middle;\n",
       "    }\n",
       "\n",
       "    .dataframe tbody tr th {\n",
       "        vertical-align: top;\n",
       "    }\n",
       "\n",
       "    .dataframe thead th {\n",
       "        text-align: right;\n",
       "    }\n",
       "</style>\n",
       "<table border=\"1\" class=\"dataframe\">\n",
       "  <thead>\n",
       "    <tr style=\"text-align: right;\">\n",
       "      <th></th>\n",
       "      <th>Logistic Regression</th>\n",
       "      <th>Gaussian Naive Bayes</th>\n",
       "    </tr>\n",
       "  </thead>\n",
       "  <tbody>\n",
       "    <tr>\n",
       "      <th>Accuracy</th>\n",
       "      <td>0.695256</td>\n",
       "      <td>0.694401</td>\n",
       "    </tr>\n",
       "    <tr>\n",
       "      <th>Precision</th>\n",
       "      <td>0.711983</td>\n",
       "      <td>0.709726</td>\n",
       "    </tr>\n",
       "    <tr>\n",
       "      <th>Recall</th>\n",
       "      <td>0.906147</td>\n",
       "      <td>0.909749</td>\n",
       "    </tr>\n",
       "    <tr>\n",
       "      <th>F1</th>\n",
       "      <td>0.797416</td>\n",
       "      <td>0.797385</td>\n",
       "    </tr>\n",
       "  </tbody>\n",
       "</table>\n",
       "</div>"
      ],
      "text/plain": [
       "           Logistic Regression  Gaussian Naive Bayes\n",
       "Accuracy              0.695256              0.694401\n",
       "Precision             0.711983              0.709726\n",
       "Recall                0.906147              0.909749\n",
       "F1                    0.797416              0.797385"
      ]
     },
     "execution_count": 9,
     "metadata": {},
     "output_type": "execute_result"
    }
   ],
   "source": [
    "classifier_scores = {}\n",
    "\n",
    "for name, classifier in [('Logistic Regression',lr), \n",
    "                         ('Gaussian Naive Bayes',gnb)]:\n",
    "    accuracy = cross_val_score(classifier, X_train, y_train, cv=5, scoring='accuracy')\n",
    "    precision = precision_score(y_train,classifier.predict(X_train))\n",
    "    recall = recall_score(y_train,classifier.predict(X_train))\n",
    "    f1 = f1_score(y_train,classifier.predict(X_train))\n",
    "    \n",
    "    classifier_scores[name] = {\n",
    "        'Accuracy' : accuracy.mean(),\n",
    "        'Precision' : precision,\n",
    "        'Recall' : recall,\n",
    "        'F1' : f1\n",
    "    }\n",
    "\n",
    "scores = pd.DataFrame(classifier_scores)\n",
    "scores"
   ]
  },
  {
   "cell_type": "markdown",
   "metadata": {},
   "source": [
    "| Metrics | K Nearest Neighbor | Logistic Regression | Gaussian Naive Bayes | Support Vector Machine | Decision Tree | Random Forest | \n",
    "| ----: | :----: | :----: | :----: | :----: | :----: | :----: |\n",
    "| **Accuracy** | 0.595220 | 0.661384 | 0.661384 | 0.661384 | 0.610965 | 0.619717 |\n",
    "| **Precision** | 0.694881 | 0.661384 | 0.661384 | 0.661384 | 0.704984 | 0.698451 |\n",
    "| **Recall** | 0.819655 | 1.000000 | 1.000000 | 1.000000 | 0.923297 | 0.937549 | \n",
    "| **F1** | 0.752129 | 0.796184 | 0.796184 | 0.796184 | 0.799505 | 0.800528 | "
   ]
  },
  {
   "cell_type": "code",
   "execution_count": null,
   "metadata": {},
   "outputs": [],
   "source": [
    "69, 70,90,79"
   ]
  },
  {
   "cell_type": "code",
   "execution_count": null,
   "metadata": {},
   "outputs": [],
   "source": [
    "classifier_scores = {}\n",
    "\n",
    "for name, classifier in [('K Nearest Neighbor', knn), \n",
    "                         ('Logistic Regression',lr), \n",
    "                         ('Gaussian Naive Bayes',gnb), \n",
    "                         ('Support Vector Machine',svc), \n",
    "                         ('Decision Tree',dtc), \n",
    "                         ('Random Forest',rfc)]:\n",
    "    accuracy = cross_val_score(classifier, X_train, y_train, cv=5, scoring='accuracy')\n",
    "    precision = precision_score(y_train,classifier.predict(X_train))\n",
    "    recall = recall_score(y_train,classifier.predict(X_train))\n",
    "    f1 = f1_score(y_train,classifier.predict(X_train))\n",
    "    \n",
    "    classifier_scores[name] = {\n",
    "        'Accuracy' : accuracy.mean(),\n",
    "        'Precision' : precision,\n",
    "        'Recall' : recall,\n",
    "        'F1' : f1\n",
    "    }\n",
    "\n",
    "scores = pd.DataFrame(classifier_scores)\n",
    "scores"
   ]
  }
 ],
 "metadata": {
  "kernelspec": {
   "display_name": "Python 3",
   "language": "python",
   "name": "python3"
  },
  "language_info": {
   "codemirror_mode": {
    "name": "ipython",
    "version": 3
   },
   "file_extension": ".py",
   "mimetype": "text/x-python",
   "name": "python",
   "nbconvert_exporter": "python",
   "pygments_lexer": "ipython3",
   "version": "3.7.4"
  }
 },
 "nbformat": 4,
 "nbformat_minor": 2
}
