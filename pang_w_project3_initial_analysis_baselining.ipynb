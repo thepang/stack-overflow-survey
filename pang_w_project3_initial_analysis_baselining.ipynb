{
 "cells": [
  {
   "cell_type": "markdown",
   "metadata": {},
   "source": [
    "### Getting data into the notebook"
   ]
  },
  {
   "cell_type": "code",
   "execution_count": 1,
   "metadata": {},
   "outputs": [],
   "source": [
    "import pandas as pd\n",
    "import matplotlib.pyplot as plt"
   ]
  },
  {
   "cell_type": "code",
   "execution_count": 2,
   "metadata": {},
   "outputs": [],
   "source": [
    "raw_import = pd.read_csv('/Users/pang/repos/stack-overflow-survey/_data/developer_survey_2019/survey_results_public.csv', \\\n",
    "                         index_col='Respondent')\n",
    "\n",
    "# start with 88883 rows"
   ]
  },
  {
   "cell_type": "markdown",
   "metadata": {},
   "source": [
    "### Early culling of data and features"
   ]
  },
  {
   "cell_type": "markdown",
   "metadata": {},
   "source": [
    "Because this effort is trying to determine if an employed developer will is unsatisfied with their current job, we will filter out respondents who did not report themselves an a professional developer and not employed full-time. This reduced our data set from "
   ]
  },
  {
   "cell_type": "code",
   "execution_count": 3,
   "metadata": {},
   "outputs": [],
   "source": [
    "# filter for employed developers with an answer for the column in question (JobSat)\n",
    "\n",
    "int_df = raw_import[(raw_import['MainBranch']=='I am a developer by profession') & \\\n",
    "                  (raw_import['Employment']=='Employed full-time')]\n",
    "int_df = int_df.drop(columns=['MainBranch', 'Employment'])\n",
    "int_df = int_df[int_df['JobSat'].notnull()]\n",
    "\n",
    "# 55166 rows left"
   ]
  },
  {
   "cell_type": "code",
   "execution_count": 4,
   "metadata": {},
   "outputs": [],
   "source": [
    "# drop all supporting compensation data and only keep the yearly compensation converte to USD \n",
    "# (using the exchange rate on 2019-02-01, assuming 12 working months and 50 working weeks\")\n",
    "\n",
    "int_df = int_df.drop(columns=['CurrencySymbol', 'CurrencyDesc', 'CompTotal', 'CompFreq'])"
   ]
  },
  {
   "cell_type": "markdown",
   "metadata": {},
   "source": [
    "### Set up target feature"
   ]
  },
  {
   "cell_type": "markdown",
   "metadata": {},
   "source": [
    "Create a new dataframe to run analysis on. We start with JobSat, which is our target. Values are updated so that 1=satisfied and 0=not satisfied."
   ]
  },
  {
   "cell_type": "code",
   "execution_count": 5,
   "metadata": {},
   "outputs": [],
   "source": [
    "df = pd.DataFrame(int_df['JobSat'])"
   ]
  },
  {
   "cell_type": "code",
   "execution_count": 6,
   "metadata": {},
   "outputs": [
    {
     "data": {
      "image/png": "[encoded data removed]",
      "text/plain": [
       "<Figure size 936x360 with 1 Axes>"
      ]
     },
     "metadata": {
      "needs_background": "light"
     },
     "output_type": "display_data"
    }
   ],
   "source": [
    "counts = dict(df['JobSat'].value_counts())\n",
    "label = []\n",
    "values = []\n",
    "for k in counts.keys():\n",
    "    label.append(k)\n",
    "    values.append(counts[k])\n",
    "\n",
    "plt.figure(figsize=(13,5))\n",
    "plt.bar(label, values);"
   ]
  },
  {
   "cell_type": "markdown",
   "metadata": {},
   "source": [
    "To separate out to two classifications, we'll set those who marked themselves as \"Very satisfied\" and \"Slightly satisfied\" as 1 and the rest as 0."
   ]
  },
  {
   "cell_type": "code",
   "execution_count": 7,
   "metadata": {},
   "outputs": [],
   "source": [
    "df = df.replace(to_replace=['Very satisfied', \n",
    "                            'Slightly satisfied'], value=1)\n",
    "df = df.replace(to_replace=['Slightly dissatisfied', \n",
    "                            'Very dissatisfied', \n",
    "                            'Neither satisfied nor dissatisfied'], value=0)"
   ]
  },
  {
   "cell_type": "markdown",
   "metadata": {},
   "source": [
    "### Set up baseline"
   ]
  },
  {
   "cell_type": "code",
   "execution_count": 8,
   "metadata": {},
   "outputs": [
    {
     "name": "stdout",
     "output_type": "stream",
     "text": [
      "The baseline approach is to predict employee is satisfied 66.16% of the time\n"
     ]
    }
   ],
   "source": [
    "print(f'The baseline approach is to predict employee is satisfied {(df[\"JobSat\"].sum() / 55166) * 100:.2f}% of the time')"
   ]
  },
  {
   "cell_type": "markdown",
   "metadata": {},
   "source": [
    "### Add a few features"
   ]
  },
  {
   "cell_type": "markdown",
   "metadata": {},
   "source": [
    "Namely...\n",
    "* Hobbyist: Do you code as a hobby?\n",
    "* OpenSourcer: How often do you contribute to open source?\n",
    "* LastHireDate: When was the last time that you took a job with a new employer?\n",
    "* SOVisitFreq: How frequently would you say you visit Stack Overflow?\n",
    "* YearsCode: Including any education, how many years have you been coding?"
   ]
  },
  {
   "cell_type": "markdown",
   "metadata": {},
   "source": [
    "The following features has around 200 null records which is around 0.3% of the the full dataset I intend to analyse. I will fill with the mean for now:\n",
    "* LastHireDate\n",
    "* SOVisitFreq\n",
    "* YearsCode "
   ]
  },
  {
   "cell_type": "code",
   "execution_count": 9,
   "metadata": {},
   "outputs": [],
   "source": [
    "df['Hobbyist'] = int_df['Hobbyist'].replace('Yes',1).replace('No',0)"
   ]
  },
  {
   "cell_type": "code",
   "execution_count": 10,
   "metadata": {},
   "outputs": [],
   "source": [
    "df['OpenSourcer'] = int_df['OpenSourcer'].replace('Never',0)\\\n",
    "    .replace('Less than once per year',1)\\\n",
    "    .replace('Less than once a month but more than once per year',4)\\\n",
    "    .replace('Once a month or more often',13)"
   ]
  },
  {
   "cell_type": "code",
   "execution_count": 11,
   "metadata": {},
   "outputs": [],
   "source": [
    "df['LastHireDate'] = int_df['LastHireDate'].replace('Less than a year ago',0)\\\n",
    "    .replace('1-2 years ago',1)\\\n",
    "    .replace('More than 4 years ago',5)\\\n",
    "    .replace('3-4 years ago',3)\\\n",
    "    .replace('NA - I am an independent contractor or self employed',0)\\\n",
    "    .replace(\"I've never had a job\",0)\n",
    "df['LastHireDate'] = df['LastHireDate'].fillna(df['LastHireDate'].mean())"
   ]
  },
  {
   "cell_type": "code",
   "execution_count": 12,
   "metadata": {},
   "outputs": [],
   "source": [
    "df['SOVisitFreq'] = int_df['SOVisitFreq'].replace('Multiple times per day',1000)\\\n",
    "    .replace('Daily or almost daily',365)\\\n",
    "    .replace('A few times per week',100)\\\n",
    "    .replace('A few times per month or weekly',30)\\\n",
    "    .replace('Less than once per month or monthly',12)\\\n",
    "    .replace('I have never visited Stack Overflow (before today)', 0)\n",
    "df['SOVisitFreq'] = df['SOVisitFreq'].fillna(df['SOVisitFreq'].mean())"
   ]
  },
  {
   "cell_type": "code",
   "execution_count": 13,
   "metadata": {},
   "outputs": [],
   "source": [
    "df['YearsCode'] = int_df['YearsCode'].replace('Less than 1 year',0)\\\n",
    "    .replace('More than 50 years',52)\n",
    "df['YearsCode'] = df['YearsCode'].fillna(df['YearsCode'].dropna().astype('int64').mean())\n",
    "df['YearsCode'] = df['YearsCode'].astype('int64')"
   ]
  },
  {
   "cell_type": "markdown",
   "metadata": {},
   "source": [
    "### Splitting set"
   ]
  },
  {
   "cell_type": "code",
   "execution_count": 14,
   "metadata": {
    "scrolled": true
   },
   "outputs": [],
   "source": [
    "# Evaluating models\n",
    "from sklearn.metrics import accuracy_score, precision_score, recall_score, f1_score, roc_auc_score, roc_curve\n",
    "from sklearn.model_selection import train_test_split, learning_curve, cross_val_score\n",
    "\n",
    "# Classifiers\n",
    "from sklearn.neighbors import KNeighborsClassifier\n",
    "from sklearn.linear_model import LogisticRegression\n",
    "from sklearn.naive_bayes import GaussianNB\n",
    "from sklearn.svm import SVC\n",
    "from sklearn.tree import DecisionTreeClassifier\n",
    "from sklearn.ensemble import RandomForestClassifier"
   ]
  },
  {
   "cell_type": "code",
   "execution_count": 15,
   "metadata": {},
   "outputs": [],
   "source": [
    "y = df['JobSat']\n",
    "X = df.drop(columns='JobSat')"
   ]
  },
  {
   "cell_type": "code",
   "execution_count": 16,
   "metadata": {},
   "outputs": [],
   "source": [
    "X_train, X_test, y_train, y_test = train_test_split(X, y, test_size=0.30, random_state=4444)"
   ]
  },
  {
   "cell_type": "markdown",
   "metadata": {},
   "source": [
    "### See what fits on the models"
   ]
  },
  {
   "cell_type": "code",
   "execution_count": 17,
   "metadata": {},
   "outputs": [
    {
     "data": {
      "text/plain": [
       "DecisionTreeClassifier(class_weight=None, criterion='gini', max_depth=None,\n",
       "                       max_features=None, max_leaf_nodes=None,\n",
       "                       min_impurity_decrease=0.0, min_impurity_split=None,\n",
       "                       min_samples_leaf=1, min_samples_split=2,\n",
       "                       min_weight_fraction_leaf=0.0, presort=False,\n",
       "                       random_state=None, splitter='best')"
      ]
     },
     "execution_count": 17,
     "metadata": {},
     "output_type": "execute_result"
    }
   ],
   "source": [
    "knn = KNeighborsClassifier()\n",
    "knn.fit(X_train, y_train)\n",
    "\n",
    "lr = LogisticRegression(solver= 'liblinear')\n",
    "lr.fit(X_train, y_train)\n",
    "\n",
    "gnb = GaussianNB()\n",
    "gnb.fit(X_train, y_train)\n",
    "\n",
    "svc = SVC(gamma='scale')\n",
    "svc.fit(X_train, y_train)\n",
    "\n",
    "rfc = RandomForestClassifier(n_estimators=10)\n",
    "rfc.fit(X_train, y_train)\n",
    "\n",
    "dtc = DecisionTreeClassifier()\n",
    "dtc.fit(X_train, y_train)"
   ]
  },
  {
   "cell_type": "code",
   "execution_count": 18,
   "metadata": {},
   "outputs": [
    {
     "data": {
      "text/html": [
       "<div>\n",
       "<style scoped>\n",
       "    .dataframe tbody tr th:only-of-type {\n",
       "        vertical-align: middle;\n",
       "    }\n",
       "\n",
       "    .dataframe tbody tr th {\n",
       "        vertical-align: top;\n",
       "    }\n",
       "\n",
       "    .dataframe thead th {\n",
       "        text-align: right;\n",
       "    }\n",
       "</style>\n",
       "<table border=\"1\" class=\"dataframe\">\n",
       "  <thead>\n",
       "    <tr style=\"text-align: right;\">\n",
       "      <th></th>\n",
       "      <th>K Nearest Neighbor</th>\n",
       "      <th>Logistic Regression</th>\n",
       "      <th>Gaussian Naive Bayes</th>\n",
       "      <th>Support Vector Machine</th>\n",
       "      <th>Decision Tree</th>\n",
       "      <th>Random Forest</th>\n",
       "    </tr>\n",
       "  </thead>\n",
       "  <tbody>\n",
       "    <tr>\n",
       "      <th>Accuracy</th>\n",
       "      <td>0.595220</td>\n",
       "      <td>0.661384</td>\n",
       "      <td>0.661384</td>\n",
       "      <td>0.661384</td>\n",
       "      <td>0.610965</td>\n",
       "      <td>0.619717</td>\n",
       "    </tr>\n",
       "    <tr>\n",
       "      <th>Precision</th>\n",
       "      <td>0.694881</td>\n",
       "      <td>0.661384</td>\n",
       "      <td>0.661384</td>\n",
       "      <td>0.661384</td>\n",
       "      <td>0.704984</td>\n",
       "      <td>0.698451</td>\n",
       "    </tr>\n",
       "    <tr>\n",
       "      <th>Recall</th>\n",
       "      <td>0.819655</td>\n",
       "      <td>1.000000</td>\n",
       "      <td>1.000000</td>\n",
       "      <td>1.000000</td>\n",
       "      <td>0.923297</td>\n",
       "      <td>0.937549</td>\n",
       "    </tr>\n",
       "    <tr>\n",
       "      <th>F1</th>\n",
       "      <td>0.752129</td>\n",
       "      <td>0.796184</td>\n",
       "      <td>0.796184</td>\n",
       "      <td>0.796184</td>\n",
       "      <td>0.799505</td>\n",
       "      <td>0.800528</td>\n",
       "    </tr>\n",
       "  </tbody>\n",
       "</table>\n",
       "</div>"
      ],
      "text/plain": [
       "           K Nearest Neighbor  Logistic Regression  Gaussian Naive Bayes  \\\n",
       "Accuracy             0.595220             0.661384              0.661384   \n",
       "Precision            0.694881             0.661384              0.661384   \n",
       "Recall               0.819655             1.000000              1.000000   \n",
       "F1                   0.752129             0.796184              0.796184   \n",
       "\n",
       "           Support Vector Machine  Decision Tree  Random Forest  \n",
       "Accuracy                 0.661384       0.610965       0.619717  \n",
       "Precision                0.661384       0.704984       0.698451  \n",
       "Recall                   1.000000       0.923297       0.937549  \n",
       "F1                       0.796184       0.799505       0.800528  "
      ]
     },
     "execution_count": 18,
     "metadata": {},
     "output_type": "execute_result"
    }
   ],
   "source": [
    "classifier_scores = {}\n",
    "\n",
    "for name, classifier in [('K Nearest Neighbor', knn), \n",
    "                         ('Logistic Regression',lr), \n",
    "                         ('Gaussian Naive Bayes',gnb), \n",
    "                         ('Support Vector Machine',svc), \n",
    "                         ('Decision Tree',dtc), \n",
    "                         ('Random Forest',rfc)]:\n",
    "    accuracy = cross_val_score(classifier, X_train, y_train, cv=5, scoring='accuracy')\n",
    "    precision = precision_score(y_train,classifier.predict(X_train))\n",
    "    recall = recall_score(y_train,classifier.predict(X_train))\n",
    "    f1 = f1_score(y_train,classifier.predict(X_train))\n",
    "    \n",
    "    classifier_scores[name] = {\n",
    "        'Accuracy' : accuracy.mean(),\n",
    "        'Precision' : precision,\n",
    "        'Recall' : recall,\n",
    "        'F1' : f1\n",
    "    }\n",
    "\n",
    "scores = pd.DataFrame(classifier_scores)\n",
    "scores"
   ]
  },
  {
   "cell_type": "markdown",
   "metadata": {},
   "source": [
    "For our business problem, recall is more important that precision. The assumption is that intervening on an employee that is happy will do no harm and that intervening on an employee that is unhappy will help the company retain that employee."
   ]
  },
  {
   "cell_type": "markdown",
   "metadata": {},
   "source": [
    "Of the models, Logistic Regression, Gausian Naive Bayes, and Support Vector Machine are looking the best (however, the accuracy is not better than chance which is 0.6616). In the next notebook, we will add more features and tune the three remaining candidates to determine if we can do better than the baselines above."
   ]
  },
  {
   "cell_type": "code",
   "execution_count": null,
   "metadata": {},
   "outputs": [],
   "source": []
  }
 ],
 "metadata": {
  "kernelspec": {
   "display_name": "Python 3",
   "language": "python",
   "name": "python3"
  },
  "language_info": {
   "codemirror_mode": {
    "name": "ipython",
    "version": 3
   },
   "file_extension": ".py",
   "mimetype": "text/x-python",
   "name": "python",
   "nbconvert_exporter": "python",
   "pygments_lexer": "ipython3",
   "version": "3.7.4"
  }
 },
 "nbformat": 4,
 "nbformat_minor": 2
}
